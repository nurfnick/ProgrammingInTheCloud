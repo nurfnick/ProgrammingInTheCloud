{
  "nbformat": 4,
  "nbformat_minor": 0,
  "metadata": {
    "colab": {
      "name": "Untitled4.ipynb",
      "provenance": [],
      "include_colab_link": true
    },
    "kernelspec": {
      "name": "python3",
      "display_name": "Python 3"
    }
  },
  "cells": [
    {
      "cell_type": "markdown",
      "metadata": {
        "id": "view-in-github",
        "colab_type": "text"
      },
      "source": [
        "<a href=\"https://colab.research.google.com/github/nurfnick/ProgrammingInTheCloud/blob/main/GettingStartedInPython.ipynb\" target=\"_parent\"><img src=\"https://colab.research.google.com/assets/colab-badge.svg\" alt=\"Open In Colab\"/></a>"
      ]
    },
    {
      "cell_type": "markdown",
      "metadata": {
        "id": "VPq8GgBKBCXj"
      },
      "source": [
        "#Welcome to Python"
      ]
    },
    {
      "cell_type": "markdown",
      "metadata": {
        "id": "1SZjJ8YBAld7"
      },
      "source": [
        "Python is a great language with lots of easy to use syntax and wide usage.  While I know it may not be a language that you are familiar with, I do think that you should be capable of using multiple languages and transitioning from one to another.  This document will serve as an example sheet and hopefully a style guide for the semester."
      ]
    },
    {
      "cell_type": "markdown",
      "metadata": {
        "id": "E2FrxpMoBIVj"
      },
      "source": [
        "###For Loops"
      ]
    },
    {
      "cell_type": "markdown",
      "metadata": {
        "id": "vBD52ZuQBPTk"
      },
      "source": [
        "One of the best parts of python is the ease of making for loops.  I'll give a few examples here"
      ]
    },
    {
      "cell_type": "code",
      "metadata": {
        "id": "ao4V80SjAML7",
        "colab": {
          "base_uri": "https://localhost:8080/",
          "height": 35
        },
        "outputId": "ea45106c-eef6-457c-e0c9-7d09d175a2d5"
      },
      "source": [
        "sum = 0\n",
        "for i in range (0,10):\n",
        "  sum = i + sum\n",
        "print(sum)"
      ],
      "execution_count": null,
      "outputs": [
        {
          "output_type": "stream",
          "text": [
            "45\n"
          ],
          "name": "stdout"
        }
      ]
    },
    {
      "cell_type": "markdown",
      "metadata": {
        "id": "cqn282nbBm8l"
      },
      "source": [
        "I can check this sum above by using the formula\n",
        "$$\n",
        "\\sum_{i=1}^ni=\\frac{n(n+1)}{2}\n",
        "$$"
      ]
    },
    {
      "cell_type": "code",
      "metadata": {
        "id": "5a02_XhBBkKq",
        "colab": {
          "base_uri": "https://localhost:8080/",
          "height": 35
        },
        "outputId": "77930567-101f-4553-fc7b-cb50bc6ac1bc"
      },
      "source": [
        "n = 9\n",
        "n*(n+1)/2"
      ],
      "execution_count": null,
      "outputs": [
        {
          "output_type": "execute_result",
          "data": {
            "text/plain": [
              "45.0"
            ]
          },
          "metadata": {
            "tags": []
          },
          "execution_count": 10
        }
      ]
    },
    {
      "cell_type": "markdown",
      "metadata": {
        "id": "dG_5-9VOCG2s"
      },
      "source": [
        "Why did I use 9 when the range goes (0,10)?  The last number is not used in the range."
      ]
    },
    {
      "cell_type": "code",
      "metadata": {
        "id": "Bexm4pblCEnL",
        "colab": {
          "base_uri": "https://localhost:8080/",
          "height": 35
        },
        "outputId": "0e915b78-f679-45bd-cd67-f1355a66274d"
      },
      "source": [
        "digits = [i for i in range (0,10)]\n",
        "digits"
      ],
      "execution_count": null,
      "outputs": [
        {
          "output_type": "execute_result",
          "data": {
            "text/plain": [
              "[0, 1, 2, 3, 4, 5, 6, 7, 8, 9]"
            ]
          },
          "metadata": {
            "tags": []
          },
          "execution_count": 11
        }
      ]
    },
    {
      "cell_type": "markdown",
      "metadata": {
        "id": "5oryA64_CeAr"
      },
      "source": [
        "You can also use for loops directly inside arrays."
      ]
    },
    {
      "cell_type": "code",
      "metadata": {
        "id": "IED6gWn3Ca5b",
        "colab": {
          "base_uri": "https://localhost:8080/",
          "height": 35
        },
        "outputId": "257e1e62-bad4-4697-f04a-edb771b50210"
      },
      "source": [
        "newSum = 0\n",
        "for number in digits:\n",
        "  newSum = newSum + number\n",
        "print(newSum)"
      ],
      "execution_count": null,
      "outputs": [
        {
          "output_type": "stream",
          "text": [
            "45\n"
          ],
          "name": "stdout"
        }
      ]
    },
    {
      "cell_type": "markdown",
      "metadata": {
        "id": "ozezztK2C20l"
      },
      "source": [
        "In Jupyter notebooks, print() will always print or the last line of code will give an output if there is one to display."
      ]
    },
    {
      "cell_type": "code",
      "metadata": {
        "id": "4uXBtZ1WC0uK",
        "colab": {
          "base_uri": "https://localhost:8080/",
          "height": 35
        },
        "outputId": "d8f8af03-3449-4778-95ad-02751863c873"
      },
      "source": [
        "newSum + 1 #Does not print\n",
        "sum #Is displayed"
      ],
      "execution_count": null,
      "outputs": [
        {
          "output_type": "execute_result",
          "data": {
            "text/plain": [
              "45"
            ]
          },
          "metadata": {
            "tags": []
          },
          "execution_count": 13
        }
      ]
    },
    {
      "cell_type": "markdown",
      "metadata": {
        "id": "aPxxRcSsDN1M"
      },
      "source": [
        "The octothorpe # is how you comment your code."
      ]
    },
    {
      "cell_type": "markdown",
      "metadata": {
        "id": "_-lEaAuDjgci"
      },
      "source": [
        "##Functions"
      ]
    },
    {
      "cell_type": "markdown",
      "metadata": {
        "id": "3DqtRSDvjjVm"
      },
      "source": [
        "You will need to use some built in functions as well as define your own.  "
      ]
    },
    {
      "cell_type": "code",
      "metadata": {
        "id": "jAzh_ce0DEjV",
        "colab": {
          "base_uri": "https://localhost:8080/",
          "height": 35
        },
        "outputId": "59dd4c3b-c52e-4228-995b-29aa471fe3e6"
      },
      "source": [
        "import math #this package contains many of the important mathematical functions\n",
        "\n",
        "math.exp(1) "
      ],
      "execution_count": null,
      "outputs": [
        {
          "output_type": "execute_result",
          "data": {
            "text/plain": [
              "2.718281828459045"
            ]
          },
          "metadata": {
            "tags": []
          },
          "execution_count": 2
        }
      ]
    },
    {
      "cell_type": "markdown",
      "metadata": {
        "id": "7Z2XHqqnj3a3"
      },
      "source": [
        "Above I imported the math package.  There are lots of things I think should work in python, pi, exp, sine, cosine.  That do work if you do math.pi, math.exp, math.sin, math.cos."
      ]
    },
    {
      "cell_type": "code",
      "metadata": {
        "id": "trkxcb01jzYo"
      },
      "source": [
        "def square(x):\n",
        "  return x*x"
      ],
      "execution_count": null,
      "outputs": []
    },
    {
      "cell_type": "markdown",
      "metadata": {
        "id": "gck04MJ5kP3A"
      },
      "source": [
        "I defined a function above, indenting and notation is very similar to for loops.  You can have a function defined this way do multiple things (like a for loop) and give it multiple inputs.  I use my function below on a few values."
      ]
    },
    {
      "cell_type": "code",
      "metadata": {
        "id": "rNao5ohQkOnv",
        "colab": {
          "base_uri": "https://localhost:8080/",
          "height": 109
        },
        "outputId": "8c7242f2-4508-46c8-f6e0-e701682e44df"
      },
      "source": [
        "for i in range(1,10,2):\n",
        "  print(square(i))"
      ],
      "execution_count": null,
      "outputs": [
        {
          "output_type": "stream",
          "text": [
            "1\n",
            "9\n",
            "25\n",
            "49\n",
            "81\n"
          ],
          "name": "stdout"
        }
      ]
    },
    {
      "cell_type": "markdown",
      "metadata": {
        "id": "nDNjNjBbkzQ_"
      },
      "source": [
        "There is one last function definer that I have found very useful, lambda.  It alows you to define a function that is naked.  It can be passed to other functions without requiring a input first."
      ]
    },
    {
      "cell_type": "code",
      "metadata": {
        "id": "I-_s6SurkyRx"
      },
      "source": [
        "cube = lambda x: x**3"
      ],
      "execution_count": null,
      "outputs": []
    },
    {
      "cell_type": "code",
      "metadata": {
        "id": "lmu4Jvn3kvTH",
        "colab": {
          "base_uri": "https://localhost:8080/",
          "height": 35
        },
        "outputId": "4b7310f1-6b6b-4bd7-806d-3e79ce19956d"
      },
      "source": [
        "cube(3)"
      ],
      "execution_count": null,
      "outputs": [
        {
          "output_type": "execute_result",
          "data": {
            "text/plain": [
              "27"
            ]
          },
          "metadata": {
            "tags": []
          },
          "execution_count": 18
        }
      ]
    },
    {
      "cell_type": "code",
      "metadata": {
        "id": "ZvSpwJdolSlB",
        "colab": {
          "base_uri": "https://localhost:8080/",
          "height": 35
        },
        "outputId": "969f4328-c809-47d5-cb46-72390b7d7d75"
      },
      "source": [
        "square(cube(2))"
      ],
      "execution_count": null,
      "outputs": [
        {
          "output_type": "execute_result",
          "data": {
            "text/plain": [
              "64"
            ]
          },
          "metadata": {
            "tags": []
          },
          "execution_count": 19
        }
      ]
    },
    {
      "cell_type": "markdown",
      "metadata": {
        "id": "JnIXskL2lZlB"
      },
      "source": [
        "This may not seem helpful at the moment but I needed to learn about it to do some more clever programing here so I've at least shown it to you."
      ]
    },
    {
      "cell_type": "code",
      "metadata": {
        "id": "Ai9J99nPlX0J"
      },
      "source": [
        ""
      ],
      "execution_count": null,
      "outputs": []
    },
    {
      "cell_type": "markdown",
      "metadata": {
        "id": "0rG-mbNW3Euj"
      },
      "source": [
        "## Dictionary"
      ]
    },
    {
      "cell_type": "markdown",
      "metadata": {
        "id": "1xi8g5YO5G6K"
      },
      "source": [
        "I find dictionaries useful occasionally, so let's show them!"
      ]
    },
    {
      "cell_type": "code",
      "metadata": {
        "id": "FPBeQYb33Scr",
        "colab": {
          "base_uri": "https://localhost:8080/",
          "height": 35
        },
        "outputId": "6ff871ca-8345-4409-b2dd-e1babbdffa44"
      },
      "source": [
        "dic = dict({1:'foo',2:42}) #This defines a dictonary that will change 1 to foo and 2 to 42\n",
        "\n",
        "dic.get(1) # the get command will change 1. "
      ],
      "execution_count": null,
      "outputs": [
        {
          "output_type": "execute_result",
          "data": {
            "application/vnd.google.colaboratory.intrinsic+json": {
              "type": "string"
            },
            "text/plain": [
              "'foo'"
            ]
          },
          "metadata": {
            "tags": []
          },
          "execution_count": 22
        }
      ]
    },
    {
      "cell_type": "code",
      "metadata": {
        "id": "mXjQ5h_w4hXK",
        "colab": {
          "base_uri": "https://localhost:8080/"
        },
        "outputId": "113a79d2-a610-497c-ec34-fba586bb00e9"
      },
      "source": [
        "myList = [1,2,3,4,'foo']\n",
        "\n",
        "newList = [dic.get(x,x) for x in myList ] #This applied the dictionary without changing the unknowns\n",
        "\n",
        "newList"
      ],
      "execution_count": null,
      "outputs": [
        {
          "output_type": "execute_result",
          "data": {
            "text/plain": [
              "['foo', 42, 3, 4, 'foo']"
            ]
          },
          "metadata": {
            "tags": []
          },
          "execution_count": 10
        }
      ]
    },
    {
      "cell_type": "code",
      "metadata": {
        "id": "eRAGv6EO5Ihq",
        "colab": {
          "base_uri": "https://localhost:8080/"
        },
        "outputId": "00d7672f-20a2-4b5c-f8e4-0f9631c0a526"
      },
      "source": [
        "newestList = [dic.get(x) for x in myList] #This one changes everything.\n",
        "newestList"
      ],
      "execution_count": null,
      "outputs": [
        {
          "output_type": "execute_result",
          "data": {
            "text/plain": [
              "['foo', 42, None, None, None]"
            ]
          },
          "metadata": {
            "tags": []
          },
          "execution_count": 12
        }
      ]
    },
    {
      "cell_type": "markdown",
      "metadata": {
        "id": "o00DFauP7qAD"
      },
      "source": [
        "If I wanted a dictionary to only deal with the values that were translated I might do something like the following"
      ]
    },
    {
      "cell_type": "code",
      "metadata": {
        "id": "EEdK8_Zm_7Gs",
        "colab": {
          "base_uri": "https://localhost:8080/"
        },
        "outputId": "8954e43a-5298-4a1c-a0e9-7073e667ef6e"
      },
      "source": [
        "[dic.get(x) for x in myList if dic.get(x) or ()]#only puts items in the list it changes"
      ],
      "execution_count": null,
      "outputs": [
        {
          "output_type": "execute_result",
          "data": {
            "text/plain": [
              "['foo', 42]"
            ]
          },
          "metadata": {
            "tags": []
          },
          "execution_count": 18
        }
      ]
    },
    {
      "cell_type": "markdown",
      "metadata": {
        "id": "xVBc9_Es6aIk"
      },
      "source": [
        "##Graphing"
      ]
    },
    {
      "cell_type": "markdown",
      "metadata": {
        "id": "9c0TV_8H6dn8"
      },
      "source": [
        "Graphing and visualizations are an important part of mathematics and understanding the numerical properties we are exploring.  I will utilize the matplotlib library (it does the graphing following the gramar of graphics) and the numpy package that allows us to do math on arrays."
      ]
    },
    {
      "cell_type": "code",
      "metadata": {
        "id": "Z-wfXSfq6cga",
        "colab": {
          "base_uri": "https://localhost:8080/",
          "height": 283
        },
        "outputId": "55e0f726-ba63-4f6d-fe5b-144705f4dab6"
      },
      "source": [
        "import matplotlib.pyplot as plt\n",
        "import numpy as np\n",
        "\n",
        "x = np.arange( -8,10,.001) #give a range and step size\n",
        "plt.scatter(math.pi/4,math.sqrt(2)/2) #Plot a point\n",
        "plt.plot(x, np.sin(x)) #graphs the function\n",
        "plt.title('Graph of ' r'$\\sin x$') #title with equation inserted!\n",
        "plt.legend( ['Sine Wave']) #legend\n",
        "\n",
        "plt.show()"
      ],
      "execution_count": null,
      "outputs": [
        {
          "output_type": "display_data",
          "data": {
            "image/png": "[encoded data removed]",
            "text/plain": [
              "<Figure size 432x288 with 1 Axes>"
            ]
          },
          "metadata": {
            "tags": [],
            "needs_background": "light"
          }
        }
      ]
    },
    {
      "cell_type": "markdown",
      "metadata": {
        "id": "vgdOygnYjlyN"
      },
      "source": [
        "##Numpy and Matricies"
      ]
    },
    {
      "cell_type": "markdown",
      "metadata": {
        "id": "zLU_7COujpXY"
      },
      "source": [
        "For module 4 and those beyond, we will need to deal with matricies in python.  The numpy package has some great tools for doing some of this work.\n",
        "\n",
        "First thing to notice is that there are regular arrays which can be any shape or size and numpy arrays don't do well if they are not."
      ]
    },
    {
      "cell_type": "code",
      "metadata": {
        "id": "g_ph-YnF7Jqk"
      },
      "source": [
        "p =[1,[1,2]]#an array\n",
        "p1 = np.array([1,[1,2]]) #a numpy array but the second element is itself a list."
      ],
      "execution_count": null,
      "outputs": []
    },
    {
      "cell_type": "markdown",
      "metadata": {
        "id": "ceK_yWdwk7-q"
      },
      "source": [
        "Let's do a more complicated thing and consider a larger numpy array."
      ]
    },
    {
      "cell_type": "code",
      "metadata": {
        "id": "OUkQBL9EkWNG",
        "colab": {
          "base_uri": "https://localhost:8080/",
          "height": 54
        },
        "outputId": "f4fcf367-0528-442f-8a5c-8f26355b6f25"
      },
      "source": [
        "A = np.array([[1,2,3,4],[5,6,7,8]])\n",
        "A"
      ],
      "execution_count": null,
      "outputs": [
        {
          "output_type": "execute_result",
          "data": {
            "text/plain": [
              "array([[1, 2, 3, 4],\n",
              "       [5, 6, 7, 8]])"
            ]
          },
          "metadata": {
            "tags": []
          },
          "execution_count": 22
        }
      ]
    },
    {
      "cell_type": "markdown",
      "metadata": {
        "id": "UjpSaM1SlJwN"
      },
      "source": [
        "You can get single elements using the row and comlumn"
      ]
    },
    {
      "cell_type": "code",
      "metadata": {
        "id": "Tv68ypiokdw8",
        "colab": {
          "base_uri": "https://localhost:8080/",
          "height": 35
        },
        "outputId": "56f813ba-ee0e-48f0-cf77-f870dbbaddf3"
      },
      "source": [
        "A[0,2]#python starts counting at 0"
      ],
      "execution_count": null,
      "outputs": [
        {
          "output_type": "execute_result",
          "data": {
            "text/plain": [
              "3"
            ]
          },
          "metadata": {
            "tags": []
          },
          "execution_count": 23
        }
      ]
    },
    {
      "cell_type": "markdown",
      "metadata": {
        "id": "IebiAat-lYKa"
      },
      "source": [
        "Or you can get entire rows (or columns) using :"
      ]
    },
    {
      "cell_type": "code",
      "metadata": {
        "id": "U8lGJ1V-lSgh",
        "colab": {
          "base_uri": "https://localhost:8080/",
          "height": 35
        },
        "outputId": "e9bfbe22-ea99-4980-9388-057c11e11de5"
      },
      "source": [
        "A[0,:]"
      ],
      "execution_count": null,
      "outputs": [
        {
          "output_type": "execute_result",
          "data": {
            "text/plain": [
              "array([1, 2, 3, 4])"
            ]
          },
          "metadata": {
            "tags": []
          },
          "execution_count": 24
        }
      ]
    },
    {
      "cell_type": "code",
      "metadata": {
        "id": "s36T8UpYlfzv",
        "colab": {
          "base_uri": "https://localhost:8080/",
          "height": 35
        },
        "outputId": "d73a6e8b-09a4-4344-eef6-2f29a478ac58"
      },
      "source": [
        "A[:,1]"
      ],
      "execution_count": null,
      "outputs": [
        {
          "output_type": "execute_result",
          "data": {
            "text/plain": [
              "array([2, 6])"
            ]
          },
          "metadata": {
            "tags": []
          },
          "execution_count": 25
        }
      ]
    },
    {
      "cell_type": "markdown",
      "metadata": {
        "id": "EXp3mqOzlkaX"
      },
      "source": [
        "You can also get the last time or items in a range."
      ]
    },
    {
      "cell_type": "code",
      "metadata": {
        "id": "WdVIZYeflh8J",
        "colab": {
          "base_uri": "https://localhost:8080/",
          "height": 35
        },
        "outputId": "4387a183-9d72-4c04-b11a-0479d0358c38"
      },
      "source": [
        "A[:,-1]"
      ],
      "execution_count": null,
      "outputs": [
        {
          "output_type": "execute_result",
          "data": {
            "text/plain": [
              "array([4, 8])"
            ]
          },
          "metadata": {
            "tags": []
          },
          "execution_count": 26
        }
      ]
    },
    {
      "cell_type": "code",
      "metadata": {
        "id": "eLfiEoD1lrpA",
        "colab": {
          "base_uri": "https://localhost:8080/",
          "height": 35
        },
        "outputId": "ad26837a-a77e-4488-910f-57590c709ecd"
      },
      "source": [
        "A[1,2:4]"
      ],
      "execution_count": null,
      "outputs": [
        {
          "output_type": "execute_result",
          "data": {
            "text/plain": [
              "array([7, 8])"
            ]
          },
          "metadata": {
            "tags": []
          },
          "execution_count": 27
        }
      ]
    },
    {
      "cell_type": "markdown",
      "metadata": {
        "id": "LPZQfrxomI2g"
      },
      "source": [
        "Martrix addition and multiplication by a scalar is possible"
      ]
    },
    {
      "cell_type": "code",
      "metadata": {
        "id": "owMl99VPl38q",
        "colab": {
          "base_uri": "https://localhost:8080/",
          "height": 54
        },
        "outputId": "7ec9cb9c-80b3-47d5-8bdf-88b7fb8647a1"
      },
      "source": [
        "3*A"
      ],
      "execution_count": null,
      "outputs": [
        {
          "output_type": "execute_result",
          "data": {
            "text/plain": [
              "array([[ 3,  6,  9, 12],\n",
              "       [15, 18, 21, 24]])"
            ]
          },
          "metadata": {
            "tags": []
          },
          "execution_count": 28
        }
      ]
    },
    {
      "cell_type": "code",
      "metadata": {
        "id": "UHllsONQmQGX",
        "colab": {
          "base_uri": "https://localhost:8080/",
          "height": 54
        },
        "outputId": "3807fa1d-0194-4791-d50d-46d75c4739e9"
      },
      "source": [
        "3*A + np.eye(2,4) #eye is the identity one on the diagonal and zero elsewhere"
      ],
      "execution_count": null,
      "outputs": [
        {
          "output_type": "execute_result",
          "data": {
            "text/plain": [
              "array([[ 4.,  6.,  9., 12.],\n",
              "       [15., 19., 21., 24.]])"
            ]
          },
          "metadata": {
            "tags": []
          },
          "execution_count": 29
        }
      ]
    },
    {
      "cell_type": "code",
      "metadata": {
        "id": "cUbD_gBRmZTY",
        "colab": {
          "base_uri": "https://localhost:8080/",
          "height": 90
        },
        "outputId": "c2e1f1cc-5d5c-40ac-e453-ded43198b45c"
      },
      "source": [
        "np.transpose(A) @ A #multiplying by the transpose wiht the @ symbol"
      ],
      "execution_count": null,
      "outputs": [
        {
          "output_type": "execute_result",
          "data": {
            "text/plain": [
              "array([[26, 32, 38, 44],\n",
              "       [32, 40, 48, 56],\n",
              "       [38, 48, 58, 68],\n",
              "       [44, 56, 68, 80]])"
            ]
          },
          "metadata": {
            "tags": []
          },
          "execution_count": 30
        }
      ]
    },
    {
      "cell_type": "code",
      "metadata": {
        "id": "rz7VnRj7mpQE",
        "colab": {
          "base_uri": "https://localhost:8080/",
          "height": 54
        },
        "outputId": "45fcd9c9-009c-4639-fe10-18d88b52e5e9"
      },
      "source": [
        "B = A @ np.transpose(A)\n",
        "B"
      ],
      "execution_count": null,
      "outputs": [
        {
          "output_type": "execute_result",
          "data": {
            "text/plain": [
              "array([[ 30,  70],\n",
              "       [ 70, 174]])"
            ]
          },
          "metadata": {
            "tags": []
          },
          "execution_count": 39
        }
      ]
    },
    {
      "cell_type": "markdown",
      "metadata": {
        "id": "Kt8ahG3Snjco"
      },
      "source": [
        "We can also compute the inverse of a square matrix."
      ]
    },
    {
      "cell_type": "code",
      "metadata": {
        "id": "PDr_szoNmtKw",
        "colab": {
          "base_uri": "https://localhost:8080/",
          "height": 54
        },
        "outputId": "c80c29f3-82c6-49b1-963e-cfb3a4074b36"
      },
      "source": [
        "C = np.linalg.inv(B)\n",
        "C"
      ],
      "execution_count": null,
      "outputs": [
        {
          "output_type": "execute_result",
          "data": {
            "text/plain": [
              "array([[ 0.54375, -0.21875],\n",
              "       [-0.21875,  0.09375]])"
            ]
          },
          "metadata": {
            "tags": []
          },
          "execution_count": 42
        }
      ]
    },
    {
      "cell_type": "code",
      "metadata": {
        "id": "VWtX9EClm4Bn",
        "colab": {
          "base_uri": "https://localhost:8080/",
          "height": 54
        },
        "outputId": "0c03b24c-6557-4666-f8fb-e89546648045"
      },
      "source": [
        "B @ C"
      ],
      "execution_count": null,
      "outputs": [
        {
          "output_type": "execute_result",
          "data": {
            "text/plain": [
              "array([[1.00000000e+00, 2.49800181e-16],\n",
              "       [1.99840144e-15, 1.00000000e+00]])"
            ]
          },
          "metadata": {
            "tags": []
          },
          "execution_count": 43
        }
      ]
    },
    {
      "cell_type": "code",
      "metadata": {
        "id": "ZFVnr5c6nAG_",
        "colab": {
          "base_uri": "https://localhost:8080/",
          "height": 54
        },
        "outputId": "1c78b06c-ab4a-440d-97cc-63451fc077ff"
      },
      "source": [
        "C @ B"
      ],
      "execution_count": null,
      "outputs": [
        {
          "output_type": "execute_result",
          "data": {
            "text/plain": [
              "array([[ 1.00000000e+00,  6.82787160e-15],\n",
              "       [-6.38378239e-16,  1.00000000e+00]])"
            ]
          },
          "metadata": {
            "tags": []
          },
          "execution_count": 44
        }
      ]
    },
    {
      "cell_type": "code",
      "metadata": {
        "id": "NAq1rV73nh3M"
      },
      "source": [
        ""
      ],
      "execution_count": null,
      "outputs": []
    },
    {
      "cell_type": "markdown",
      "metadata": {
        "id": "ndgvNdSpltZ8"
      },
      "source": [
        "## Jupyter, Google Colab, Github and Markdown"
      ]
    },
    {
      "cell_type": "markdown",
      "metadata": {
        "id": "FEbQMVc2nrtf"
      },
      "source": [
        "I will be using jupyter, github and google colab.  This will require web access.  It is possible to create jupyter notebooks locally (rather than on the cloud) but it will require that you download software to your machine. "
      ]
    },
    {
      "cell_type": "markdown",
      "metadata": {
        "id": "OFaW5cwNpSAO"
      },
      "source": [
        "###Jupyter"
      ]
    },
    {
      "cell_type": "markdown",
      "metadata": {
        "id": "vKTLGJn5pUgd"
      },
      "source": [
        "There are two basic types of cells in a jupyter notebook, coding and text.  Coding is done in the python language.  Text can be simply just text but it does permit (and you are asked to use) a markdown language.  This is very similar to $\\LaTeX$ in creating equations but some of the typesetting is different.  Headers are created with # or ## depending on level.  Bullets or enumerations can be done with pointy-clicky.  Shift+Enter executes a line of code.\n",
        "\n",
        "\n",
        "\n"
      ]
    },
    {
      "cell_type": "markdown",
      "metadata": {
        "id": "Vjt5m_oFqtVO"
      },
      "source": [
        "###Google Colab"
      ]
    },
    {
      "cell_type": "markdown",
      "metadata": {
        "id": "FRjkn7QAqyXV"
      },
      "source": [
        "You will see an access google colab at the top of all my jupyter notebooks for this class.  That will allow you to open them and make changes or execute the code.  Code will run on google cloud servers rather than your local machines."
      ]
    },
    {
      "cell_type": "markdown",
      "metadata": {
        "id": "qrObPxYjrJ8t"
      },
      "source": [
        "###Github"
      ]
    },
    {
      "cell_type": "markdown",
      "metadata": {
        "id": "Rr8pU4JLrMq0"
      },
      "source": [
        "Students find github very intimidating.  It can be run from the command line.  I do not use it that way.  I will mostly interact with the web interface to create repositories (where you store code) and upload documents.  Documents (like this one) can be uploaded (or saved) into github directly.  You will need an account and a repository to be able to do this.  You need not use all features of github but it does create a place for you to store and share your work. Here is a more thorough tutorial https://reproducible-science-curriculum.github.io/sharing-RR-Jupyter/01-sharing-github/ "
      ]
    },
    {
      "cell_type": "code",
      "metadata": {
        "id": "QyC4qZqRlrK7"
      },
      "source": [
        ""
      ],
      "execution_count": null,
      "outputs": []
    },
    {
      "cell_type": "markdown",
      "metadata": {
        "id": "L-wTmtRiMemB"
      },
      "source": [
        "### Markdown"
      ]
    },
    {
      "cell_type": "markdown",
      "metadata": {
        "id": "geklNLg8MiIb"
      },
      "source": [
        "Markdown is also really great for creating technical reports,enbedding code and writing formulas.  There are two options in Jupyter for cell types \"code\" and \"text\"  Code is run in python but Text is run in markdown.  \n",
        "\n",
        "You see I am simply typing and it is creating this text but I can do a variety of other things including headers # or ## etc.\n",
        "\n",
        "I can also do lists with the * (star)\n",
        "* First item\n",
        "* Second Item \n",
        "\n",
        "I can number my lists too just by numbering and following with a dot 1. \n",
        "1. Hi\n",
        "2. There\n",
        "1. General\n",
        "4. Kenobi\n",
        "\n",
        "Links get surrounded with < brackets > <https://github.com/nurfnick> You can make the link change by preceeding with [ the other] brackets followed by the link in (parentheses) [My Github](https://github.com/nurfnick)"
      ]
    },
    {
      "cell_type": "markdown",
      "metadata": {
        "id": "p6hbQogBO2T0"
      },
      "source": [
        "Most important is it supports $\\LaTeX$ coding.  The dollar sign on either side let's you do inline equations $y = mx+b$ and double dollars is for bigger equations\n",
        "$$\n",
        "e^{i\\pi}+1 = 0\n",
        "$$"
      ]
    },
    {
      "cell_type": "code",
      "metadata": {
        "id": "kEsAGNcfMhhF"
      },
      "source": [
        ""
      ],
      "execution_count": null,
      "outputs": []
    }
  ]
}